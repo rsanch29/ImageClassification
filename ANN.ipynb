{
 "cells": [
  {
   "cell_type": "markdown",
   "id": "d48c9f0a-2240-4b9c-95de-bfc2fb0dff9e",
   "metadata": {},
   "source": [
    "# Artificial Neural Network (ANN)"
   ]
  },
  {
   "cell_type": "markdown",
   "id": "0baa784c-eda3-4563-9ef1-5b835d52836e",
   "metadata": {
    "tags": []
   },
   "source": [
    "<center><img src=\"https://www.mpg.de/20827416/original-1694424748.jpg?t=eyJ3aWR0aCI6ODQ4LCJmaWxlX2V4dGVuc2lvbiI6ImpwZyIsIm9ial9pZCI6MjA4Mjc0MTZ9--a8f75f0eae6637b7ddf50eb10953dbb23a2a7c0b\" alt=\"Drawing\" style=\"width: 600px; height: 300px;\" /></center>\n",
    "\n",
    "<div style=\"text-align: right\"> \n",
    "  <small>www.mpg.de</small>\n",
    "</div>"
   ]
  },
  {
   "cell_type": "markdown",
   "id": "0a3dac91-8ebd-4520-8e3b-e822162009ec",
   "metadata": {},
   "source": [
    "# Learning Objectives\n",
    "\n",
    "1. [What are ANN's?](#What-are-ANN's?)\n",
    "2. [Implementing a simple ANN in Python](#Implementing-a-simple-ANN-in-Python)\n",
    "3. [ANN libraries such as TensorFlow, Keras, PyTorch](#ANN-libraries-such-as-TensorFlow,-Keras,-PyTorch)\n",
    "4. [Regression with ANN](#Regression-with-ANN)\n",
    "5. [Classification with ANN](#Classification-with-ANN)\n"
   ]
  },
  {
   "cell_type": "code",
   "execution_count": null,
   "id": "b28aeeec-1e16-471d-9c65-002685d2692a",
   "metadata": {},
   "outputs": [],
   "source": []
  },
  {
   "cell_type": "markdown",
   "id": "dc0fe192-fd21-48a7-b474-240097548df4",
   "metadata": {
    "tags": []
   },
   "source": [
    "## What are ANN's?\n",
    "\n",
    "Artificial Neural Networks (ANNs) are computational models inspired by the human brain's structure and function. They are meant to mimic the function of a human brain to perform tasks. The building blocks are neurons with a close resemblance to the human brain. They are designed to recognize patterns and interpret sensory data through a kind of machine perception.\n",
    "\n",
    "\n",
    "\n",
    "<center><img src=\"https://media.geeksforgeeks.org/wp-content/uploads/20230410104038/Artificial-Neural-Networks.webp\" alt=\"Drawing\" style=\"width: 400px; height: 200px;\" /></center>\n",
    "\n",
    "<div style=\"text-align: right\"> \n",
    "  <small>geeksforgeek</small>\n",
    "</div>\n",
    "\n",
    "\n",
    "\n",
    "\n",
    "\n",
    "\n",
    "\n",
    "#### A typical neural network consists of three types of layers:\n",
    "\n",
    "\n",
    "\n",
    "<center><img src=\"https://miro.medium.com/v2/resize:fit:1199/1*N8UXaiUKWurFLdmEhEHiWg.jpeg\" alt=\"Drawing\" style=\"width: 550px; height: 250px;\" /></center>\n",
    "\n",
    "<div style=\"text-align: right\"> \n",
    "  <small>miro.medium.com</small>\n",
    "</div>\n",
    "\n",
    "\n",
    "\n",
    "\n",
    "**Input Layer**: This is where the data enters the network. Each node in this layer represents a feature in the input data.\n",
    "\n",
    "**Hidden Layers**: These layers perform computations on the input data. They can be one or more in number. Each node in a hidden layer is connected to all the nodes in the previous layer and the next layer.\n",
    "\n",
    "**Output Layer**: This layer produces the result of the neural network. The number of nodes in this layer depends on the problem the network is trying to solve. For example, in a binary classification problem, there would be one node in the output layer.\n",
    "\n",
    "*The basic equation for a neural network can be represented as follows:*\n",
    "\n",
    "\n",
    "$$y = f\\left(\\sum_{i=1}^{n} w_i \\cdot x_i + b\\right)$$\n",
    "\n",
    "Where:\n",
    "\n",
    "$y$ is the output of the neural network.\n",
    "\n",
    "$f$ is the activation function applied to the weighted sum of inputs.\n",
    "\n",
    "$\\sum_{i=1}^{n} w_i \\cdot x_i$ is the weighted sum of inputs, where $w_i$ are the weights and $x_i$ are the input values.\n",
    "$b$ is the bias term.\n",
    "\n",
    "\n"
   ]
  },
  {
   "cell_type": "code",
   "execution_count": null,
   "id": "65413a00-9410-491e-ae55-c289b58a41dc",
   "metadata": {},
   "outputs": [],
   "source": []
  },
  {
   "cell_type": "markdown",
   "id": "e82e45ea-9286-4feb-afff-45bbb5f3b254",
   "metadata": {},
   "source": [
    "## Implementing a simple ANN in Python\n",
    "\n",
    "We will implement a simple neural network with NumPy only and train it with gradient descent to perform a simple linear regression on a dummy dataset.We will use the equation mentioned in the previous section."
   ]
  },
  {
   "cell_type": "code",
   "execution_count": 1,
   "id": "ee6bdb69-3aad-472a-94e8-65451f6bfb07",
   "metadata": {
    "tags": []
   },
   "outputs": [],
   "source": [
    "import numpy as np\n",
    "import matplotlib.pyplot as plt"
   ]
  },
  {
   "cell_type": "code",
   "execution_count": 2,
   "id": "1998456b-9d42-4e9e-8604-ade7a4707c36",
   "metadata": {
    "tags": []
   },
   "outputs": [],
   "source": [
    "# Generate some random data for demonstration\n",
    "np.random.seed(42)\n",
    "X = 2 * np.random.rand(100, 1)\n",
    "y = 4 + 3 * X + np.random.randn(100, 1)\n"
   ]
  },
  {
   "cell_type": "code",
   "execution_count": 3,
   "id": "755e3372-d927-48fb-9a20-d8bb2a161686",
   "metadata": {
    "tags": []
   },
   "outputs": [
    {
     "data": {
      "text/plain": [
       "Text(0, 0.5, 'Y')"
      ]
     },
     "execution_count": 3,
     "metadata": {},
     "output_type": "execute_result"
    },
    {
     "data": {
      "image/png": "[encoded data removed]",
      "text/plain": [
       "<Figure size 640x480 with 1 Axes>"
      ]
     },
     "metadata": {},
     "output_type": "display_data"
    }
   ],
   "source": [
    "plt.scatter(X,y)\n",
    "plt.xlabel(\"X\")\n",
    "plt.ylabel(\"Y\")"
   ]
  },
  {
   "cell_type": "markdown",
   "id": "a41a10c5-856e-4bd6-aab8-10e227af6455",
   "metadata": {},
   "source": [
    "##### Training the model"
   ]
  },
  {
   "cell_type": "code",
   "execution_count": 4,
   "id": "c126a836-724d-4df7-8542-ea25287ccd3c",
   "metadata": {
    "tags": []
   },
   "outputs": [
    {
     "name": "stdout",
     "output_type": "stream",
     "text": [
      "Final Weights: [[2.77099812]]\n",
      "Final Bias: [[4.21409413]]\n"
     ]
    }
   ],
   "source": [
    "\n",
    "# Define the neural network architecture\n",
    "input_size = 1\n",
    "output_size = 1\n",
    "learning_rate = 0.001\n",
    "epochs = 200\n",
    "\n",
    "errors = []\n",
    "\n",
    "# Initialize weights and biases\n",
    "weights = np.random.randn(input_size, output_size)\n",
    "bias = np.zeros((1, output_size))\n",
    "\n",
    "# Training the neural network\n",
    "for epoch in range(epochs):\n",
    "    # Forward pass\n",
    "    y_pred = np.dot(X, weights) + bias\n",
    "    \n",
    "    # Compute the loss (mean squared error)\n",
    "    loss = np.mean((y_pred - y)**2)\n",
    "    errors.append(loss)\n",
    "    \n",
    "    # Backward pass (gradient descent)\n",
    "    grad_weights = 2*np.dot(X.T, (y_pred - y))\n",
    "    grad_bias = 2*np.sum(y_pred - y)\n",
    "    \n",
    "    # Update weights and biases\n",
    "    weights -= learning_rate * grad_weights\n",
    "    bias -= learning_rate * grad_bias\n",
    "\n",
    "# Print the final weights and bias\n",
    "print(\"Final Weights:\", weights)\n",
    "print(\"Final Bias:\", bias)\n"
   ]
  },
  {
   "cell_type": "code",
   "execution_count": 5,
   "id": "f8aa9cea-74e2-4ef0-a2dd-49f9ce062bca",
   "metadata": {
    "tags": []
   },
   "outputs": [
    {
     "data": {
      "text/plain": [
       "Text(0.5, 0, 'epochs')"
      ]
     },
     "execution_count": 5,
     "metadata": {},
     "output_type": "execute_result"
    },
    {
     "data": {
      "image/png": "[encoded data removed]",
      "text/plain": [
       "<Figure size 640x480 with 1 Axes>"
      ]
     },
     "metadata": {},
     "output_type": "display_data"
    }
   ],
   "source": [
    "plt.plot(list(range(epochs)),errors)\n",
    "plt.xlim(-1,40)\n",
    "plt.ylabel(\"Loss (MSE)\")\n",
    "plt.xlabel(\"epochs\")"
   ]
  },
  {
   "cell_type": "markdown",
   "id": "ac32f4ef-4e76-4284-afa0-9b7111004dff",
   "metadata": {},
   "source": [
    "##### Prediction"
   ]
  },
  {
   "cell_type": "code",
   "execution_count": 6,
   "id": "53e55bad-5c9e-447b-bf37-1ecceef4fb2a",
   "metadata": {
    "tags": []
   },
   "outputs": [],
   "source": [
    "X_test = 2 * np.random.rand(1000, 1)\n",
    "\n",
    "y_pred = np.dot(X_test, weights) + bias"
   ]
  },
  {
   "cell_type": "code",
   "execution_count": 7,
   "id": "26882b33-670c-49ed-8762-114250f3cf93",
   "metadata": {
    "tags": []
   },
   "outputs": [
    {
     "data": {
      "text/plain": [
       "<matplotlib.legend.Legend at 0x7f96a1b88820>"
      ]
     },
     "execution_count": 7,
     "metadata": {},
     "output_type": "execute_result"
    },
    {
     "data": {
      "image/png": "[encoded data removed]",
      "text/plain": [
       "<Figure size 640x480 with 1 Axes>"
      ]
     },
     "metadata": {},
     "output_type": "display_data"
    }
   ],
   "source": [
    "plt.scatter(X,y)\n",
    "plt.plot(X_test,y_pred,label=\"Predicted\",color='r')\n",
    "plt.xlabel(\"X\")\n",
    "plt.ylabel(\"Y\")\n",
    "plt.legend()"
   ]
  },
  {
   "cell_type": "code",
   "execution_count": null,
   "id": "a6144b53-1d1b-4eb4-827c-d559049c13b5",
   "metadata": {},
   "outputs": [],
   "source": []
  },
  {
   "cell_type": "markdown",
   "id": "9c155d71-0535-44fa-bf28-5007096719c5",
   "metadata": {},
   "source": [
    "## ANN libraries such as TensorFlow, Keras, PyTorch\n",
    "\n",
    "Several powerful libraries facilitate the implementation and training of ANNs. You do not need to write thousands of lines of code, unlike the previous example, to implement a deep learning network. They have everything written in a nice form of libraries. Here are three widely-used libraries:\n",
    "\n",
    "\n",
    "1. **TensorFlow:**\n",
    "   - Developed by Google Brain.\n",
    "   - Offers a comprehensive ecosystem for machine learning and deep learning.\n",
    "   - Allows building and training various neural network architectures.\n",
    "   - [Documentation](https://www.tensorflow.org/)\n",
    "\n",
    "2. **Keras:**\n",
    "   - High-level neural networks API.\n",
    "   - Now integrated into TensorFlow.\n",
    "   - Designed for fast experimentation and prototyping of neural networks.\n",
    "   - [Documentation](https://keras.io/)\n",
    "\n",
    "3. **PyTorch:**\n",
    "   - Developed by Facebook's AI Research lab (FAIR).\n",
    "   - Known for its dynamic computational graph, making it more intuitive.\n",
    "   - Gaining popularity for research and development in deep learning.\n",
    "   - [Documentation](https://pytorch.org/)\n",
    "\n",
    "These libraries provide a wealth of tools, making it easier for researchers and developers to work with neural networks, from simple to complex architectures.\n"
   ]
  },
  {
   "cell_type": "code",
   "execution_count": null,
   "id": "96931512-7fb4-4d8c-aead-f57c58a6397e",
   "metadata": {},
   "outputs": [],
   "source": []
  },
  {
   "cell_type": "markdown",
   "id": "bc58c373-76d5-4adc-a5e9-073598d8162e",
   "metadata": {},
   "source": [
    "## Regression with ANN\n",
    "\n",
    "\n",
    "\n",
    "We will use PyTorch for building our model, and the regression will be performed on a materials dataset to predict its bandgap. The two useful PyTorch modules are `torch.nn` (for building the network) [documentation](https://pytorch.org/docs/stable/generated/torch.nn.Module.html) and `torch.optim` (which includes optimizers such as gradient descent) [documentation](https://pytorch.org/docs/stable/optim.html).\n",
    "\n",
    "\n",
    "\n"
   ]
  },
  {
   "cell_type": "code",
   "execution_count": 10,
   "id": "0dbee5c1-3937-411e-9cdc-ae21dc7d6499",
   "metadata": {
    "tags": []
   },
   "outputs": [],
   "source": [
    "import torch\n",
    "import torch.nn as nn\n",
    "import torch.optim as optim\n",
    "from sklearn.model_selection import train_test_split\n",
    "from sklearn.preprocessing import MinMaxScaler\n",
    "from sklearn.metrics import mean_squared_error"
   ]
  },
  {
   "cell_type": "markdown",
   "id": "7083ade4-098c-4996-a570-470ebc3de1cb",
   "metadata": {},
   "source": [
    "##### Load the dataset"
   ]
  },
  {
   "cell_type": "code",
   "execution_count": 11,
   "id": "b2725d07-efe2-4123-8235-e1bd15060a40",
   "metadata": {
    "tags": []
   },
   "outputs": [
    {
     "data": {
      "text/html": [
       "<div>\n",
       "<style scoped>\n",
       "    .dataframe tbody tr th:only-of-type {\n",
       "        vertical-align: middle;\n",
       "    }\n",
       "\n",
       "    .dataframe tbody tr th {\n",
       "        vertical-align: top;\n",
       "    }\n",
       "\n",
       "    .dataframe thead th {\n",
       "        text-align: right;\n",
       "    }\n",
       "</style>\n",
       "<table border=\"1\" class=\"dataframe\">\n",
       "  <thead>\n",
       "    <tr style=\"text-align: right;\">\n",
       "      <th></th>\n",
       "      <th>Number</th>\n",
       "      <th>MendeleevNumber</th>\n",
       "      <th>AtomicWeight</th>\n",
       "      <th>MeltingT</th>\n",
       "      <th>Column</th>\n",
       "      <th>Row</th>\n",
       "      <th>CovalentRadius</th>\n",
       "      <th>Electronegativity</th>\n",
       "      <th>NsValence</th>\n",
       "      <th>NpValence</th>\n",
       "      <th>...</th>\n",
       "      <th>NsUnfilled</th>\n",
       "      <th>NpUnfilled</th>\n",
       "      <th>NdUnfilled</th>\n",
       "      <th>NfUnfilled</th>\n",
       "      <th>NUnfilled</th>\n",
       "      <th>GSvolume_pa</th>\n",
       "      <th>GSbandgap</th>\n",
       "      <th>GSmagmom</th>\n",
       "      <th>SpaceGroupNumber</th>\n",
       "      <th>band_gap</th>\n",
       "    </tr>\n",
       "  </thead>\n",
       "  <tbody>\n",
       "    <tr>\n",
       "      <th>0</th>\n",
       "      <td>2.500000</td>\n",
       "      <td>89.500000</td>\n",
       "      <td>4.257630</td>\n",
       "      <td>26.270000</td>\n",
       "      <td>4.500000</td>\n",
       "      <td>1.250000</td>\n",
       "      <td>41.000000</td>\n",
       "      <td>2.410000</td>\n",
       "      <td>1.250000</td>\n",
       "      <td>0.750000</td>\n",
       "      <td>...</td>\n",
       "      <td>0.750000</td>\n",
       "      <td>0.750000</td>\n",
       "      <td>0.0</td>\n",
       "      <td>0.0</td>\n",
       "      <td>1.500000</td>\n",
       "      <td>8.653437</td>\n",
       "      <td>7.499000</td>\n",
       "      <td>0.0</td>\n",
       "      <td>194.000000</td>\n",
       "      <td>4.3412</td>\n",
       "    </tr>\n",
       "    <tr>\n",
       "      <th>1</th>\n",
       "      <td>10.000000</td>\n",
       "      <td>82.375000</td>\n",
       "      <td>20.369348</td>\n",
       "      <td>158.393750</td>\n",
       "      <td>15.000000</td>\n",
       "      <td>2.375000</td>\n",
       "      <td>84.500000</td>\n",
       "      <td>2.721250</td>\n",
       "      <td>2.000000</td>\n",
       "      <td>3.000000</td>\n",
       "      <td>...</td>\n",
       "      <td>0.000000</td>\n",
       "      <td>3.000000</td>\n",
       "      <td>0.0</td>\n",
       "      <td>0.0</td>\n",
       "      <td>3.000000</td>\n",
       "      <td>17.694308</td>\n",
       "      <td>4.632500</td>\n",
       "      <td>0.0</td>\n",
       "      <td>122.000000</td>\n",
       "      <td>3.5600</td>\n",
       "    </tr>\n",
       "    <tr>\n",
       "      <th>2</th>\n",
       "      <td>6.000000</td>\n",
       "      <td>61.750000</td>\n",
       "      <td>12.240275</td>\n",
       "      <td>160.710000</td>\n",
       "      <td>11.500000</td>\n",
       "      <td>2.000000</td>\n",
       "      <td>85.250000</td>\n",
       "      <td>2.525000</td>\n",
       "      <td>1.750000</td>\n",
       "      <td>2.250000</td>\n",
       "      <td>...</td>\n",
       "      <td>0.250000</td>\n",
       "      <td>2.250000</td>\n",
       "      <td>0.0</td>\n",
       "      <td>0.0</td>\n",
       "      <td>2.500000</td>\n",
       "      <td>15.224896</td>\n",
       "      <td>4.827750</td>\n",
       "      <td>0.0</td>\n",
       "      <td>202.750000</td>\n",
       "      <td>3.6643</td>\n",
       "    </tr>\n",
       "    <tr>\n",
       "      <th>3</th>\n",
       "      <td>9.333333</td>\n",
       "      <td>60.666667</td>\n",
       "      <td>18.701880</td>\n",
       "      <td>135.113333</td>\n",
       "      <td>6.000000</td>\n",
       "      <td>2.333333</td>\n",
       "      <td>100.000000</td>\n",
       "      <td>2.153333</td>\n",
       "      <td>1.333333</td>\n",
       "      <td>1.333333</td>\n",
       "      <td>...</td>\n",
       "      <td>0.666667</td>\n",
       "      <td>0.666667</td>\n",
       "      <td>0.0</td>\n",
       "      <td>0.0</td>\n",
       "      <td>1.333333</td>\n",
       "      <td>29.608889</td>\n",
       "      <td>2.617667</td>\n",
       "      <td>0.0</td>\n",
       "      <td>145.000000</td>\n",
       "      <td>3.6839</td>\n",
       "    </tr>\n",
       "    <tr>\n",
       "      <th>4</th>\n",
       "      <td>10.000000</td>\n",
       "      <td>84.000000</td>\n",
       "      <td>20.326621</td>\n",
       "      <td>145.050000</td>\n",
       "      <td>15.333333</td>\n",
       "      <td>2.333333</td>\n",
       "      <td>81.333333</td>\n",
       "      <td>2.890000</td>\n",
       "      <td>2.000000</td>\n",
       "      <td>3.333333</td>\n",
       "      <td>...</td>\n",
       "      <td>0.000000</td>\n",
       "      <td>2.666667</td>\n",
       "      <td>0.0</td>\n",
       "      <td>0.0</td>\n",
       "      <td>2.666667</td>\n",
       "      <td>15.481329</td>\n",
       "      <td>2.687333</td>\n",
       "      <td>0.0</td>\n",
       "      <td>69.333333</td>\n",
       "      <td>5.1829</td>\n",
       "    </tr>\n",
       "  </tbody>\n",
       "</table>\n",
       "<p>5 rows × 23 columns</p>\n",
       "</div>"
      ],
      "text/plain": [
       "      Number  MendeleevNumber  AtomicWeight    MeltingT     Column       Row  \\\n",
       "0   2.500000        89.500000      4.257630   26.270000   4.500000  1.250000   \n",
       "1  10.000000        82.375000     20.369348  158.393750  15.000000  2.375000   \n",
       "2   6.000000        61.750000     12.240275  160.710000  11.500000  2.000000   \n",
       "3   9.333333        60.666667     18.701880  135.113333   6.000000  2.333333   \n",
       "4  10.000000        84.000000     20.326621  145.050000  15.333333  2.333333   \n",
       "\n",
       "   CovalentRadius  Electronegativity  NsValence  NpValence  ...  NsUnfilled  \\\n",
       "0       41.000000           2.410000   1.250000   0.750000  ...    0.750000   \n",
       "1       84.500000           2.721250   2.000000   3.000000  ...    0.000000   \n",
       "2       85.250000           2.525000   1.750000   2.250000  ...    0.250000   \n",
       "3      100.000000           2.153333   1.333333   1.333333  ...    0.666667   \n",
       "4       81.333333           2.890000   2.000000   3.333333  ...    0.000000   \n",
       "\n",
       "   NpUnfilled  NdUnfilled  NfUnfilled  NUnfilled  GSvolume_pa  GSbandgap  \\\n",
       "0    0.750000         0.0         0.0   1.500000     8.653437   7.499000   \n",
       "1    3.000000         0.0         0.0   3.000000    17.694308   4.632500   \n",
       "2    2.250000         0.0         0.0   2.500000    15.224896   4.827750   \n",
       "3    0.666667         0.0         0.0   1.333333    29.608889   2.617667   \n",
       "4    2.666667         0.0         0.0   2.666667    15.481329   2.687333   \n",
       "\n",
       "   GSmagmom  SpaceGroupNumber  band_gap  \n",
       "0       0.0        194.000000    4.3412  \n",
       "1       0.0        122.000000    3.5600  \n",
       "2       0.0        202.750000    3.6643  \n",
       "3       0.0        145.000000    3.6839  \n",
       "4       0.0         69.333333    5.1829  \n",
       "\n",
       "[5 rows x 23 columns]"
      ]
     },
     "execution_count": 11,
     "metadata": {},
     "output_type": "execute_result"
    }
   ],
   "source": [
    "import numpy as np\n",
    "import pandas as pd\n",
    "\n",
    "data =  pd.read_csv('band_Gap.csv')\n",
    "\n",
    "data.head(5)"
   ]
  },
  {
   "cell_type": "code",
   "execution_count": 12,
   "id": "6f0e9fea-3082-4cfe-be21-6ed172c2ac0f",
   "metadata": {
    "tags": []
   },
   "outputs": [],
   "source": [
    "X = data.iloc[:,:-1].values\n",
    "y = data.iloc[:,[-1]].values\n",
    "\n",
    "X_train, X_test, y_train, y_test = train_test_split(X, y, test_size=0.3, random_state=42)"
   ]
  },
  {
   "cell_type": "code",
   "execution_count": 13,
   "id": "2cc94863-0f8a-4b03-9acf-719a3623f2a2",
   "metadata": {
    "tags": []
   },
   "outputs": [],
   "source": [
    "scaler = MinMaxScaler()\n",
    "\n",
    "X_train_scaled = scaler.fit_transform(X_train)\n",
    "X_test_scaled  = scaler.transform(X_test)\n",
    "\n",
    "\n",
    "scaler_y = MinMaxScaler()\n",
    "\n",
    "y_train_scaled = scaler_y.fit_transform(y_train)\n",
    "y_test_scaled  = scaler_y.transform(y_test)"
   ]
  },
  {
   "cell_type": "markdown",
   "id": "f214e8b3-d99d-4826-906e-911963bb31a9",
   "metadata": {},
   "source": [
    "##### Convert data to PyTorch tensors"
   ]
  },
  {
   "cell_type": "code",
   "execution_count": 14,
   "id": "1f0ef51c-7ebb-488a-97a6-ed4cffed3c48",
   "metadata": {
    "tags": []
   },
   "outputs": [],
   "source": [
    "\n",
    "X_tensor = torch.tensor(X_train_scaled, dtype=torch.float32)\n",
    "y_tensor = torch.tensor(y_train_scaled, dtype=torch.float32)\n"
   ]
  },
  {
   "cell_type": "markdown",
   "id": "e5f266e7-dfd1-4b5b-a881-3ec0d72e430c",
   "metadata": {},
   "source": [
    "##### Define a neural network with hidden layers"
   ]
  },
  {
   "cell_type": "code",
   "execution_count": 15,
   "id": "f4f728ee-4937-42c4-b2be-e139f8a34dd2",
   "metadata": {
    "tags": []
   },
   "outputs": [],
   "source": [
    "\n",
    "class NeuralNetwork(nn.Module):\n",
    "    def __init__(self, input_size, hidden_size, output_size):\n",
    "        super(NeuralNetwork, self).__init__()\n",
    "        self.layer1 = nn.Linear(input_size, hidden_size)\n",
    "        self.relu = nn.ReLU()\n",
    "        self.layer2 = nn.Linear(hidden_size, output_size)\n",
    "\n",
    "    def forward(self, x):\n",
    "        x = self.layer1(x)\n",
    "        x = self.relu(x)\n",
    "        x = self.layer2(x)\n",
    "        return x"
   ]
  },
  {
   "cell_type": "markdown",
   "id": "6b2be173-c090-4398-b2a1-be64d8c3f739",
   "metadata": {},
   "source": [
    "##### Instantiate the model, define loss function, and optimizer"
   ]
  },
  {
   "cell_type": "code",
   "execution_count": 16,
   "id": "67563148-bd86-4473-a64d-b8730cfa1b3e",
   "metadata": {
    "tags": []
   },
   "outputs": [],
   "source": [
    "\n",
    "input_size = X_tensor.shape[1]\n",
    "hidden_size = X_tensor.shape[1]*4  # Adjust the size of the hidden layer as needed\n",
    "output_size = 1\n",
    "model = NeuralNetwork(input_size, hidden_size, output_size)\n",
    "criterion = nn.MSELoss() # Mean square error loss\n",
    "optimizer = optim.SGD(model.parameters(), lr=0.01) #Stochastic gradient descent"
   ]
  },
  {
   "cell_type": "code",
   "execution_count": 17,
   "id": "578c1396-ab14-4f51-9cdf-e6592df72912",
   "metadata": {
    "tags": []
   },
   "outputs": [
    {
     "name": "stdout",
     "output_type": "stream",
     "text": [
      "Total Parameters: 2113\n"
     ]
    }
   ],
   "source": [
    "total_params = sum(p.numel() for p in model.parameters())\n",
    "print(f'Total Parameters: {total_params}')"
   ]
  },
  {
   "cell_type": "markdown",
   "id": "8a3879c2-0827-494e-9624-66a3b6013779",
   "metadata": {},
   "source": [
    "##### Training the model"
   ]
  },
  {
   "cell_type": "code",
   "execution_count": 18,
   "id": "94fafea9-3ebf-429b-8a07-d3ddc458aac3",
   "metadata": {
    "tags": []
   },
   "outputs": [
    {
     "name": "stdout",
     "output_type": "stream",
     "text": [
      "Epoch [500/10000], mse: 0.7217\n",
      "Epoch [1000/10000], mse: 0.6239\n",
      "Epoch [1500/10000], mse: 0.5738\n",
      "Epoch [2000/10000], mse: 0.5352\n",
      "Epoch [2500/10000], mse: 0.5074\n",
      "Epoch [3000/10000], mse: 0.4852\n",
      "Epoch [3500/10000], mse: 0.4664\n",
      "Epoch [4000/10000], mse: 0.4499\n",
      "Epoch [4500/10000], mse: 0.4346\n",
      "Epoch [5000/10000], mse: 0.4209\n",
      "Epoch [5500/10000], mse: 0.4084\n",
      "Epoch [6000/10000], mse: 0.3970\n",
      "Epoch [6500/10000], mse: 0.3864\n",
      "Epoch [7000/10000], mse: 0.3769\n",
      "Epoch [7500/10000], mse: 0.3682\n",
      "Epoch [8000/10000], mse: 0.3601\n",
      "Epoch [8500/10000], mse: 0.3525\n",
      "Epoch [9000/10000], mse: 0.3454\n",
      "Epoch [9500/10000], mse: 0.3388\n",
      "Epoch [10000/10000], mse: 0.3325\n"
     ]
    }
   ],
   "source": [
    "\n",
    "num_epochs = 10000\n",
    "for epoch in range(num_epochs):\n",
    "    # Forward pass\n",
    "    outputs = model(X_tensor)\n",
    "    loss = criterion(outputs, y_tensor)\n",
    "    \n",
    "    mse = mean_squared_error((y_train),scaler_y.inverse_transform(outputs.detach().numpy()))\n",
    "\n",
    "    # Backward and optimize\n",
    "    optimizer.zero_grad()\n",
    "    loss.backward()\n",
    "    optimizer.step()\n",
    "\n",
    "    # Print the loss at every 100 epochs\n",
    "    if (epoch + 1) % 500 == 0:\n",
    "        print(f'Epoch [{epoch+1}/{num_epochs}], mse: {mse:.4f}')"
   ]
  },
  {
   "cell_type": "markdown",
   "id": "af35a2cb-de40-41c3-8958-374ad2e7f8d6",
   "metadata": {},
   "source": [
    "##### Plot the results of prediction"
   ]
  },
  {
   "cell_type": "code",
   "execution_count": 19,
   "id": "5d9f224d-dce8-43ed-aac5-4a2dcfb8e1fc",
   "metadata": {
    "tags": []
   },
   "outputs": [],
   "source": [
    "X_tensor_pred = torch.tensor(X_test_scaled, dtype=torch.float32)\n"
   ]
  },
  {
   "cell_type": "code",
   "execution_count": 21,
   "id": "b668fdb7-fbf1-4655-b8b4-b97fde71d40c",
   "metadata": {
    "tags": []
   },
   "outputs": [
    {
     "data": {
      "text/plain": [
       "Text(0, 0.5, 'Predicted bandGap (eV)')"
      ]
     },
     "execution_count": 21,
     "metadata": {},
     "output_type": "execute_result"
    },
    {
     "data": {
      "image/png": "[encoded data removed]",
      "text/plain": [
       "<Figure size 640x480 with 1 Axes>"
      ]
     },
     "metadata": {},
     "output_type": "display_data"
    }
   ],
   "source": [
    "predicted = model(X_tensor_pred).detach().numpy()\n",
    "\n",
    "mse = mean_squared_error((y_test),scaler_y.inverse_transform(predicted))\n",
    "plt.scatter(scaler_y.inverse_transform(y_test_scaled),scaler_y.inverse_transform(predicted), label='mse: {} eV'.format(round(mse,2)))\n",
    "\n",
    "plt.legend()\n",
    "ax = plt.gca()\n",
    "ax.plot([0, 7], [0, 7], ls=\"--\", c=\".3\")\n",
    "\n",
    "plt.xlabel(\"Actual bandGap (eV)\")\n",
    "plt.ylabel(\"Predicted bandGap (eV)\")"
   ]
  },
  {
   "cell_type": "code",
   "execution_count": null,
   "id": "32fac097-53c0-4feb-92b7-3d7590aae2dc",
   "metadata": {
    "tags": []
   },
   "outputs": [],
   "source": []
  },
  {
   "cell_type": "markdown",
   "id": "99925542-bcca-4c4a-ae15-9dc81bfeb3a2",
   "metadata": {},
   "source": [
    "## Classification with ANN\n",
    "\n",
    "\n",
    "\n",
    "The task is to  classify materials in the Bandgap dataset as either metals or insulators/semiconductors.\n",
    "\n",
    "- **Semiconductor**: A material with a small band gap, typically between 0.5 and 3 electronvolts (eV), allowing it to conduct electricity at higher temperatures than insulators but less effectively than metals.\n",
    "\n",
    "- **Metal**: A material with no band gap or a very small one, allowing it to conduct electricity efficiently.\n",
    "\n",
    "- **Insulator**: A material with a large band gap, typically exceeding 3 eV, making it a poor conductor of electricity.\n",
    "\n",
    "\n",
    "\n"
   ]
  },
  {
   "cell_type": "markdown",
   "id": "7174c1b1-5d6e-4ec6-91f2-9c9ad202d6e8",
   "metadata": {},
   "source": [
    "Now let's determine which materials are metals and which ones are insulators or semiconductors"
   ]
  },
  {
   "cell_type": "code",
   "execution_count": 29,
   "id": "16b0fecc-e31f-40b4-938a-9e42e8a6dd86",
   "metadata": {
    "tags": []
   },
   "outputs": [
    {
     "data": {
      "text/plain": [
       "(array([355.,  33.,  25.,  17.,  15.,  13.,  13.,   4.,   2.,   2.]),\n",
       " array([0.     , 0.74631, 1.49262, 2.23893, 2.98524, 3.73155, 4.47786,\n",
       "        5.22417, 5.97048, 6.71679, 7.4631 ]),\n",
       " <BarContainer object of 10 artists>)"
      ]
     },
     "execution_count": 29,
     "metadata": {},
     "output_type": "execute_result"
    },
    {
     "data": {
      "image/png": "[encoded data removed]",
      "text/plain": [
       "<Figure size 640x480 with 1 Axes>"
      ]
     },
     "metadata": {},
     "output_type": "display_data"
    }
   ],
   "source": [
    "import matplotlib.pyplot as plt\n",
    "\n",
    "plt.hist(data.band_gap)"
   ]
  },
  {
   "cell_type": "code",
   "execution_count": 30,
   "id": "bcb387f3-592d-4a5f-a411-d9a4b0dcc2a6",
   "metadata": {
    "tags": []
   },
   "outputs": [
    {
     "data": {
      "text/plain": [
       "(343, 87)"
      ]
     },
     "execution_count": 30,
     "metadata": {},
     "output_type": "execute_result"
    }
   ],
   "source": [
    "metal_index = np.where(data.band_gap <0.5)[0].tolist()\n",
    "\n",
    "semicond_index = np.where((0.5<data.band_gap)&(data.band_gap <3))[0].tolist()\n",
    "\n",
    "len(metal_index),len(semicond_index)"
   ]
  },
  {
   "cell_type": "markdown",
   "id": "a33e6ad7-ed56-4141-b575-a857fc1975b1",
   "metadata": {},
   "source": [
    "Since there is a significant difference in the size of the classes, we will attempt to reduce the imbalance by selecting a subset of the metals in the dataset"
   ]
  },
  {
   "cell_type": "code",
   "execution_count": 31,
   "id": "e3bb94f9-fb91-4201-9f39-1fc88a8d1cbf",
   "metadata": {
    "tags": []
   },
   "outputs": [],
   "source": [
    "from random import shuffle\n",
    "\n",
    "shuffle(metal_index)\n",
    "metal_index_subset = metal_index[:90]\n",
    "\n",
    "total_index = metal_index_subset+semicond_index\n",
    "\n",
    "# Class labels\n",
    "\n",
    "labels = np.empty(data.shape[0])\n",
    "labels[ metal_index_subset] = 0\n",
    "labels[semicond_index] = 1"
   ]
  },
  {
   "cell_type": "code",
   "execution_count": 32,
   "id": "e7aab592-481f-4a4b-b117-d6e38ddbe679",
   "metadata": {
    "tags": []
   },
   "outputs": [
    {
     "data": {
      "text/html": [
       "<div>\n",
       "<style scoped>\n",
       "    .dataframe tbody tr th:only-of-type {\n",
       "        vertical-align: middle;\n",
       "    }\n",
       "\n",
       "    .dataframe tbody tr th {\n",
       "        vertical-align: top;\n",
       "    }\n",
       "\n",
       "    .dataframe thead th {\n",
       "        text-align: right;\n",
       "    }\n",
       "</style>\n",
       "<table border=\"1\" class=\"dataframe\">\n",
       "  <thead>\n",
       "    <tr style=\"text-align: right;\">\n",
       "      <th></th>\n",
       "      <th>Number</th>\n",
       "      <th>MendeleevNumber</th>\n",
       "      <th>AtomicWeight</th>\n",
       "      <th>MeltingT</th>\n",
       "      <th>Column</th>\n",
       "      <th>Row</th>\n",
       "      <th>CovalentRadius</th>\n",
       "      <th>Electronegativity</th>\n",
       "      <th>NsValence</th>\n",
       "      <th>NpValence</th>\n",
       "      <th>...</th>\n",
       "      <th>NsUnfilled</th>\n",
       "      <th>NpUnfilled</th>\n",
       "      <th>NdUnfilled</th>\n",
       "      <th>NfUnfilled</th>\n",
       "      <th>NUnfilled</th>\n",
       "      <th>GSvolume_pa</th>\n",
       "      <th>GSbandgap</th>\n",
       "      <th>GSmagmom</th>\n",
       "      <th>SpaceGroupNumber</th>\n",
       "      <th>labels</th>\n",
       "    </tr>\n",
       "  </thead>\n",
       "  <tbody>\n",
       "    <tr>\n",
       "      <th>17</th>\n",
       "      <td>30.285714</td>\n",
       "      <td>81.000000</td>\n",
       "      <td>72.856729</td>\n",
       "      <td>270.414286</td>\n",
       "      <td>14.714286</td>\n",
       "      <td>3.285714</td>\n",
       "      <td>97.285714</td>\n",
       "      <td>2.860000</td>\n",
       "      <td>2.00</td>\n",
       "      <td>3.428571</td>\n",
       "      <td>...</td>\n",
       "      <td>0.00</td>\n",
       "      <td>2.142857</td>\n",
       "      <td>0.000000</td>\n",
       "      <td>0.0</td>\n",
       "      <td>2.142857</td>\n",
       "      <td>17.965357</td>\n",
       "      <td>0.0</td>\n",
       "      <td>0.000000</td>\n",
       "      <td>27.214286</td>\n",
       "      <td>1.0</td>\n",
       "    </tr>\n",
       "    <tr>\n",
       "      <th>83</th>\n",
       "      <td>18.000000</td>\n",
       "      <td>76.454545</td>\n",
       "      <td>39.881891</td>\n",
       "      <td>539.821818</td>\n",
       "      <td>13.272727</td>\n",
       "      <td>2.909091</td>\n",
       "      <td>96.000000</td>\n",
       "      <td>2.792727</td>\n",
       "      <td>2.00</td>\n",
       "      <td>2.545455</td>\n",
       "      <td>...</td>\n",
       "      <td>0.00</td>\n",
       "      <td>1.272727</td>\n",
       "      <td>1.272727</td>\n",
       "      <td>0.0</td>\n",
       "      <td>2.545455</td>\n",
       "      <td>11.704091</td>\n",
       "      <td>0.0</td>\n",
       "      <td>0.000000</td>\n",
       "      <td>84.545455</td>\n",
       "      <td>1.0</td>\n",
       "    </tr>\n",
       "    <tr>\n",
       "      <th>171</th>\n",
       "      <td>16.500000</td>\n",
       "      <td>62.250000</td>\n",
       "      <td>35.125178</td>\n",
       "      <td>820.342500</td>\n",
       "      <td>11.500000</td>\n",
       "      <td>3.000000</td>\n",
       "      <td>108.500000</td>\n",
       "      <td>2.535000</td>\n",
       "      <td>1.75</td>\n",
       "      <td>2.000000</td>\n",
       "      <td>...</td>\n",
       "      <td>0.25</td>\n",
       "      <td>1.000000</td>\n",
       "      <td>2.250000</td>\n",
       "      <td>0.0</td>\n",
       "      <td>3.500000</td>\n",
       "      <td>12.878750</td>\n",
       "      <td>0.0</td>\n",
       "      <td>0.000002</td>\n",
       "      <td>110.750000</td>\n",
       "      <td>1.0</td>\n",
       "    </tr>\n",
       "    <tr>\n",
       "      <th>229</th>\n",
       "      <td>66.250000</td>\n",
       "      <td>56.250000</td>\n",
       "      <td>162.887152</td>\n",
       "      <td>1093.185000</td>\n",
       "      <td>9.750000</td>\n",
       "      <td>5.750000</td>\n",
       "      <td>154.500000</td>\n",
       "      <td>2.035000</td>\n",
       "      <td>1.50</td>\n",
       "      <td>0.500000</td>\n",
       "      <td>...</td>\n",
       "      <td>0.50</td>\n",
       "      <td>1.000000</td>\n",
       "      <td>2.250000</td>\n",
       "      <td>0.0</td>\n",
       "      <td>3.750000</td>\n",
       "      <td>25.895625</td>\n",
       "      <td>0.0</td>\n",
       "      <td>0.000000</td>\n",
       "      <td>196.250000</td>\n",
       "      <td>0.0</td>\n",
       "    </tr>\n",
       "    <tr>\n",
       "      <th>178</th>\n",
       "      <td>56.000000</td>\n",
       "      <td>38.750000</td>\n",
       "      <td>139.358075</td>\n",
       "      <td>803.672500</td>\n",
       "      <td>5.000000</td>\n",
       "      <td>5.000000</td>\n",
       "      <td>161.750000</td>\n",
       "      <td>1.280000</td>\n",
       "      <td>1.75</td>\n",
       "      <td>0.250000</td>\n",
       "      <td>...</td>\n",
       "      <td>0.25</td>\n",
       "      <td>1.250000</td>\n",
       "      <td>0.000000</td>\n",
       "      <td>0.0</td>\n",
       "      <td>1.500000</td>\n",
       "      <td>27.935833</td>\n",
       "      <td>0.0</td>\n",
       "      <td>0.000000</td>\n",
       "      <td>218.250000</td>\n",
       "      <td>0.0</td>\n",
       "    </tr>\n",
       "  </tbody>\n",
       "</table>\n",
       "<p>5 rows × 23 columns</p>\n",
       "</div>"
      ],
      "text/plain": [
       "        Number  MendeleevNumber  AtomicWeight     MeltingT     Column  \\\n",
       "17   30.285714        81.000000     72.856729   270.414286  14.714286   \n",
       "83   18.000000        76.454545     39.881891   539.821818  13.272727   \n",
       "171  16.500000        62.250000     35.125178   820.342500  11.500000   \n",
       "229  66.250000        56.250000    162.887152  1093.185000   9.750000   \n",
       "178  56.000000        38.750000    139.358075   803.672500   5.000000   \n",
       "\n",
       "          Row  CovalentRadius  Electronegativity  NsValence  NpValence  ...  \\\n",
       "17   3.285714       97.285714           2.860000       2.00   3.428571  ...   \n",
       "83   2.909091       96.000000           2.792727       2.00   2.545455  ...   \n",
       "171  3.000000      108.500000           2.535000       1.75   2.000000  ...   \n",
       "229  5.750000      154.500000           2.035000       1.50   0.500000  ...   \n",
       "178  5.000000      161.750000           1.280000       1.75   0.250000  ...   \n",
       "\n",
       "     NsUnfilled  NpUnfilled  NdUnfilled  NfUnfilled  NUnfilled  GSvolume_pa  \\\n",
       "17         0.00    2.142857    0.000000         0.0   2.142857    17.965357   \n",
       "83         0.00    1.272727    1.272727         0.0   2.545455    11.704091   \n",
       "171        0.25    1.000000    2.250000         0.0   3.500000    12.878750   \n",
       "229        0.50    1.000000    2.250000         0.0   3.750000    25.895625   \n",
       "178        0.25    1.250000    0.000000         0.0   1.500000    27.935833   \n",
       "\n",
       "     GSbandgap  GSmagmom  SpaceGroupNumber  labels  \n",
       "17         0.0  0.000000         27.214286     1.0  \n",
       "83         0.0  0.000000         84.545455     1.0  \n",
       "171        0.0  0.000002        110.750000     1.0  \n",
       "229        0.0  0.000000        196.250000     0.0  \n",
       "178        0.0  0.000000        218.250000     0.0  \n",
       "\n",
       "[5 rows x 23 columns]"
      ]
     },
     "execution_count": 32,
     "metadata": {},
     "output_type": "execute_result"
    }
   ],
   "source": [
    "data['labels'] = labels\n",
    "\n",
    "#subset for classification\n",
    "data_subset = data.iloc[total_index ,:]\n",
    "data_subset = data_subset.sample(frac=1)\n",
    "data_subset = data_subset.drop(columns=['band_gap'])\n",
    "data_subset.head(5)"
   ]
  },
  {
   "cell_type": "code",
   "execution_count": 33,
   "id": "806a65f6-6930-4cee-b1f1-43c73af7c56e",
   "metadata": {
    "tags": []
   },
   "outputs": [
    {
     "data": {
      "text/plain": [
       "(array([90.,  0.,  0.,  0.,  0.,  0.,  0.,  0.,  0., 87.]),\n",
       " array([0. , 0.1, 0.2, 0.3, 0.4, 0.5, 0.6, 0.7, 0.8, 0.9, 1. ]),\n",
       " <BarContainer object of 10 artists>)"
      ]
     },
     "execution_count": 33,
     "metadata": {},
     "output_type": "execute_result"
    },
    {
     "data": {
      "image/png": "[encoded data removed]",
      "text/plain": [
       "<Figure size 640x480 with 1 Axes>"
      ]
     },
     "metadata": {},
     "output_type": "display_data"
    }
   ],
   "source": [
    "plt.hist(data_subset.labels)"
   ]
  },
  {
   "cell_type": "markdown",
   "id": "bb9dbd0e-045d-4456-9748-72a306fe9706",
   "metadata": {},
   "source": [
    "#### The model"
   ]
  },
  {
   "cell_type": "code",
   "execution_count": 42,
   "id": "ce9c301e-9e98-4186-a43e-b50e042a033f",
   "metadata": {
    "tags": []
   },
   "outputs": [],
   "source": [
    "# Define a simple neural network class\n",
    "class NeuralNetworkC(nn.Module):\n",
    "    def __init__(self, input_size, hidden_size, output_size):\n",
    "        super(NeuralNetworkC, self).__init__()\n",
    "        self.fc1 = nn.Linear(input_size, hidden_size)\n",
    "        self.relu = nn.ReLU()\n",
    "        self.fc2 = nn.Linear(hidden_size, output_size)\n",
    "        self.sigmoid = nn.Sigmoid()\n",
    "\n",
    "    def forward(self, x):\n",
    "        x = self.fc1(x)\n",
    "        x = self.relu(x)\n",
    "        x = self.fc2(x)\n",
    "        x = self.sigmoid(x)\n",
    "        return x"
   ]
  },
  {
   "cell_type": "markdown",
   "id": "11668b09-9835-4b33-8d2f-a929c8a07dac",
   "metadata": {},
   "source": [
    "#### Dataset for training"
   ]
  },
  {
   "cell_type": "code",
   "execution_count": 43,
   "id": "dee7197d-416e-40de-b127-88aedb966f1e",
   "metadata": {
    "tags": []
   },
   "outputs": [],
   "source": [
    "X = data_subset.iloc[:,:-1].values\n",
    "y = data_subset.iloc[:,[-1]].values\n",
    "\n",
    "X_train, X_test, y_train, y_test = train_test_split(X, y, test_size=0.3, random_state=42)"
   ]
  },
  {
   "cell_type": "code",
   "execution_count": 44,
   "id": "6a4af124-46f3-452a-8ba7-3b42f5e84cec",
   "metadata": {
    "tags": []
   },
   "outputs": [],
   "source": [
    "scaler = MinMaxScaler()\n",
    "\n",
    "X_train_scaled = scaler.fit_transform(X_train)\n",
    "X_test_scaled  = scaler.transform(X_test)\n"
   ]
  },
  {
   "cell_type": "code",
   "execution_count": 45,
   "id": "487375eb-0458-459a-bf7a-bd698f42a40f",
   "metadata": {
    "tags": []
   },
   "outputs": [],
   "source": [
    "\n",
    "X_tensor = torch.tensor(X_train_scaled, dtype=torch.float32)\n",
    "y_tensor = torch.tensor(y_train, dtype=torch.float32)\n"
   ]
  },
  {
   "cell_type": "markdown",
   "id": "8c0f6e79-2ab1-4e42-8a83-e1df701a77dd",
   "metadata": {},
   "source": [
    "##### Instantiate the model, define loss function, and optimizer"
   ]
  },
  {
   "cell_type": "code",
   "execution_count": 76,
   "id": "5facfbe2-9b6a-438c-95c9-30fd5a82ae5a",
   "metadata": {
    "tags": []
   },
   "outputs": [],
   "source": [
    "\n",
    "input_size = X_tensor.shape[1]\n",
    "hidden_size = X_tensor.shape[1]*2  # Adjust the size of the hidden layer as needed\n",
    "output_size = 1\n",
    "model = NeuralNetworkC(input_size, hidden_size, output_size)\n",
    "criterion = nn.BCELoss()\n",
    "optimizer = optim.SGD(model.parameters(), lr=0.01) #Stochastic gradient descent"
   ]
  },
  {
   "cell_type": "code",
   "execution_count": 77,
   "id": "e7256444-aada-49d7-b937-fac6a15052e2",
   "metadata": {
    "tags": []
   },
   "outputs": [
    {
     "name": "stdout",
     "output_type": "stream",
     "text": [
      "Total Parameters: 1057\n"
     ]
    }
   ],
   "source": [
    "total_params = sum(p.numel() for p in model.parameters())\n",
    "print(f'Total Parameters: {total_params}')"
   ]
  },
  {
   "cell_type": "markdown",
   "id": "98199363-d90e-4e17-a6fe-9c66552eb6f0",
   "metadata": {},
   "source": [
    "##### Training the model"
   ]
  },
  {
   "cell_type": "code",
   "execution_count": 78,
   "id": "62603d35-b8e9-469f-96d4-1a390bc6ed27",
   "metadata": {
    "tags": []
   },
   "outputs": [
    {
     "name": "stdout",
     "output_type": "stream",
     "text": [
      "Epoch [100/5000], loss: 0.6763874888\n",
      "Epoch [200/5000], loss: 0.6580916047\n",
      "Epoch [300/5000], loss: 0.6366893649\n",
      "Epoch [400/5000], loss: 0.6124784350\n",
      "Epoch [500/5000], loss: 0.5854018331\n",
      "Epoch [600/5000], loss: 0.5557264686\n",
      "Epoch [700/5000], loss: 0.5247167349\n",
      "Epoch [800/5000], loss: 0.4936543703\n",
      "Epoch [900/5000], loss: 0.4638861418\n",
      "Epoch [1000/5000], loss: 0.4365395606\n",
      "Epoch [1100/5000], loss: 0.4121752977\n",
      "Epoch [1200/5000], loss: 0.3909009993\n",
      "Epoch [1300/5000], loss: 0.3726054132\n",
      "Epoch [1400/5000], loss: 0.3569768369\n",
      "Epoch [1500/5000], loss: 0.3436324894\n",
      "Epoch [1600/5000], loss: 0.3321922123\n",
      "Epoch [1700/5000], loss: 0.3223483860\n",
      "Epoch [1800/5000], loss: 0.3138306737\n",
      "Epoch [1900/5000], loss: 0.3064123094\n",
      "Epoch [2000/5000], loss: 0.2999023795\n",
      "Epoch [2100/5000], loss: 0.2941699326\n",
      "Epoch [2200/5000], loss: 0.2890935838\n",
      "Epoch [2300/5000], loss: 0.2845681608\n",
      "Epoch [2400/5000], loss: 0.2805089056\n",
      "Epoch [2500/5000], loss: 0.2768532038\n",
      "Epoch [2600/5000], loss: 0.2735424936\n",
      "Epoch [2700/5000], loss: 0.2705300748\n",
      "Epoch [2800/5000], loss: 0.2677754462\n",
      "Epoch [2900/5000], loss: 0.2652485371\n",
      "Epoch [3000/5000], loss: 0.2629289031\n",
      "Epoch [3100/5000], loss: 0.2607862353\n",
      "Epoch [3200/5000], loss: 0.2587962747\n",
      "Epoch [3300/5000], loss: 0.2569414079\n",
      "Epoch [3400/5000], loss: 0.2552072108\n",
      "Epoch [3500/5000], loss: 0.2535807192\n",
      "Epoch [3600/5000], loss: 0.2520502508\n",
      "Epoch [3700/5000], loss: 0.2506059408\n",
      "Epoch [3800/5000], loss: 0.2492420524\n",
      "Epoch [3900/5000], loss: 0.2479480952\n",
      "Epoch [4000/5000], loss: 0.2467164099\n",
      "Epoch [4100/5000], loss: 0.2455414683\n",
      "Epoch [4200/5000], loss: 0.2444185764\n",
      "Epoch [4300/5000], loss: 0.2433444262\n",
      "Epoch [4400/5000], loss: 0.2423139811\n",
      "Epoch [4500/5000], loss: 0.2413230240\n",
      "Epoch [4600/5000], loss: 0.2403697073\n",
      "Epoch [4700/5000], loss: 0.2394507825\n",
      "Epoch [4800/5000], loss: 0.2385644019\n",
      "Epoch [4900/5000], loss: 0.2377077639\n",
      "Epoch [5000/5000], loss: 0.2368784994\n"
     ]
    }
   ],
   "source": [
    "from sklearn.metrics import accuracy_score\n",
    "\n",
    "num_epochs = 5000\n",
    "for epoch in range(num_epochs):\n",
    "    # Forward pass\n",
    "    outputs = model(X_tensor)\n",
    "    loss = criterion(outputs, y_tensor)\n",
    "\n",
    "    # Backward and optimize\n",
    "    optimizer.zero_grad()\n",
    "    loss.backward()\n",
    "    optimizer.step()\n",
    "\n",
    "    # Print the loss at every 100 epochs\n",
    "    if (epoch + 1) % 100 == 0:\n",
    "        print(f'Epoch [{epoch+1}/{num_epochs}], loss: {loss:.10f}')"
   ]
  },
  {
   "cell_type": "markdown",
   "id": "3419e7e1-f62e-4670-ac55-ff7f8fcdcea3",
   "metadata": {},
   "source": [
    "##### Plot the results of prediction"
   ]
  },
  {
   "cell_type": "code",
   "execution_count": 85,
   "id": "a5a6a8d8-0de1-4d3b-8a7c-5d4277634863",
   "metadata": {
    "tags": []
   },
   "outputs": [],
   "source": [
    "X_tensor_pred = torch.tensor(X_test_scaled, dtype=torch.float32)\n"
   ]
  },
  {
   "cell_type": "code",
   "execution_count": 88,
   "id": "641ab405-3a5a-4ac2-b31a-2685117bbfa4",
   "metadata": {
    "tags": []
   },
   "outputs": [
    {
     "name": "stdout",
     "output_type": "stream",
     "text": [
      "The prediction accuracy for classification 0.9259259259259259\n"
     ]
    }
   ],
   "source": [
    "predicted = model(X_tensor_pred).detach().numpy()\n",
    "\n",
    "predicted[predicted<0.5] = 0\n",
    "predicted[predicted>=0.5] = 1\n",
    "\n",
    "\n",
    "print(\"The prediction accuracy for classification\",accuracy_score(predicted,y_test))"
   ]
  }
 ],
 "metadata": {
  "kernelspec": {
   "display_name": "Python 3 (ipykernel)",
   "language": "python",
   "name": "python3"
  },
  "language_info": {
   "codemirror_mode": {
    "name": "ipython",
    "version": 3
   },
   "file_extension": ".py",
   "mimetype": "text/x-python",
   "name": "python",
   "nbconvert_exporter": "python",
   "pygments_lexer": "ipython3",
   "version": "3.8.8"
  }
 },
 "nbformat": 4,
 "nbformat_minor": 5
}
