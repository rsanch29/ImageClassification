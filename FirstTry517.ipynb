{
 "cells": [
  {
   "cell_type": "code",
   "execution_count": 4,
   "id": "f442b4ac",
   "metadata": {},
   "outputs": [],
   "source": [
    "import pandas as pd\n",
    "import numpy as np\n",
    "from matplotlib import pyplot as plt\n",
    "import os\n",
    "import glob\n",
    "import pandas as pd\n",
    "import numpy as np\n",
    "from matplotlib import pyplot as plt\n",
    "import cv2\n",
    "import shutil, os"
   ]
  },
  {
   "cell_type": "code",
   "execution_count": 17,
   "id": "b088a0e1",
   "metadata": {},
   "outputs": [
    {
     "name": "stdout",
     "output_type": "stream",
     "text": [
      "19\n"
     ]
    }
   ],
   "source": [
    "path = r'C:\\Users\\Pedro\\Neural Networks\\Neural Networks\\Ryan - nikon' # path to all images combined\n",
    "files = glob.glob(path + \"/*.jpg\")\n",
    "\n",
    "dfs_names = []# list to store all images name\n",
    "for r,d,f in os.walk(path):\n",
    "    for file in f:\n",
    "        if file.endswith(\".jpeg\"):\n",
    "            file = file.replace(\".jpg\", \"\")\n",
    "            dfs_names.append(file)\n",
    "\n",
    "print(len(dfs_names))"
   ]
  },
  {
   "cell_type": "code",
   "execution_count": 18,
   "id": "7a3cbc93",
   "metadata": {},
   "outputs": [],
   "source": [
    "import csv\n",
    "training_paths=[] # all training images name in one list\n",
    "training_labels=[] # all training iamges label in one list\n",
    "testing_paths=[]  # all testing iamges name in one list\n",
    "testing_labels=[] # all testing iamges label in one list\n",
    "\n",
    "for index, name in enumerate(dfs_names):\n",
    "    if index <=7999:\n",
    "        training_paths.append(name)\n",
    "        training_labels.append('Circle')\n",
    "    elif index>7999 and index<= 9999:\n",
    "        testing_paths.append(name)\n",
    "        testing_labels.append('Circle')\n",
    "    if index>9999 and index<= 17999:\n",
    "        training_paths.append(name)\n",
    "        training_labels.append('Heptagons')\n",
    "    elif index>17999 and index<= 19999:\n",
    "        testing_paths.append(name)\n",
    "        testing_labels.append('Heptagons')\n",
    "    if index>19999 and index<= 27999:\n",
    "        training_paths.append(name)\n",
    "        training_labels.append('Hexagons')\n",
    "    elif index>27999 and index<= 29999:\n",
    "        testing_paths.append(name)\n",
    "        testing_labels.append('Hexagons')\n",
    "    if index>29999 and index<= 37999:\n",
    "        training_paths.append(name)\n",
    "        training_labels.append('Nonagons')\n",
    "    elif index>37999 and index<= 39999:\n",
    "        testing_paths.append(name)\n",
    "        testing_labels.append('Nonagons')\n",
    "    if index>39999 and index<= 47999:\n",
    "        training_paths.append(name)\n",
    "        training_labels.append('Octagons')\n",
    "    elif index>47999 and index<= 49999:\n",
    "        testing_paths.append(name)\n",
    "        testing_labels.append('Octagons')\n",
    "    if index>49999 and index<= 57999:\n",
    "        training_paths.append(name)\n",
    "        training_labels.append('Pentagons')\n",
    "    elif index>57999 and index<= 59999:\n",
    "        testing_paths.append(name)\n",
    "        testing_labels.append('Pentagons')\n",
    "    if index>59999 and index<= 67999:\n",
    "        training_paths.append(name)\n",
    "        training_labels.append('Squares')\n",
    "    elif index>67999 and index<= 69999:\n",
    "        testing_paths.append(name)\n",
    "        testing_labels.append('Squares')\n",
    "    if index>69999 and index<= 77999:\n",
    "        training_paths.append(name)\n",
    "        training_labels.append('Stars')\n",
    "    elif index>77999 and index<= 79999:\n",
    "        testing_paths.append(name)\n",
    "        testing_labels.append('Stars')\n",
    "    if index>79999 and index<= 87999:\n",
    "        training_paths.append(name)\n",
    "        training_labels.append('Triangles')\n",
    "    elif index>87999 and index<= 89999:\n",
    "        testing_paths.append(name)\n",
    "        testing_labels.append('Triangles')\n",
    "        \n",
    "        "
   ]
  },
  {
   "cell_type": "code",
   "execution_count": 19,
   "id": "6f9655a8",
   "metadata": {},
   "outputs": [
    {
     "name": "stdout",
     "output_type": "stream",
     "text": [
      "training_paths=19\n",
      "training_labels=19\n",
      "testing_paths=0\n",
      "training_labels=0\n"
     ]
    }
   ],
   "source": [
    "print('training_paths='+ str(len(training_paths)) )\n",
    "print('training_labels='+ str(len(training_labels)) )\n",
    "\n",
    "print('testing_paths='+ str(len(testing_paths)) )\n",
    "print('training_labels='+ str(len(testing_labels)) )  "
   ]
  },
  {
   "cell_type": "code",
   "execution_count": 22,
   "id": "6583c878",
   "metadata": {},
   "outputs": [],
   "source": [
    "#moving training images to a folder named training_set\n",
    "for f in training_paths:\n",
    "    from1= r'C:\\Users\\Pedro\\Neural Networks\\Neural Networks\\Ryan - nikon/' +f\n",
    "    to1=r'C:\\Users\\Pedro\\Neural Networks\\Neural Networks\\training_set'\n",
    "    shutil.move(from1, to1)"
   ]
  },
  {
   "cell_type": "code",
   "execution_count": 23,
   "id": "7cb9e9ca",
   "metadata": {},
   "outputs": [],
   "source": [
    "#moving the testing_images to a folder named testing_set\n",
    "for f in testing_paths:\n",
    "    from1= r'C:\\Users\\Pedro\\Neural Networks\\Neural Networks\\Ryan - nikon/' +f\n",
    "    to1=r'C:\\Users\\Pedro\\Neural Networks\\Neural Networks\\testing_set'\n",
    "    shutil.move(from1, to1)"
   ]
  },
  {
   "cell_type": "code",
   "execution_count": 25,
   "id": "a9cc5eb8",
   "metadata": {},
   "outputs": [],
   "source": [
    "#read the images in training_set and convert to gray scale and save it as array\n",
    "\n",
    "ALLDATAPATH= r\"C:\\Users\\Pedro\\Neural Networks\\Neural Networks\"\n",
    "CATEGORIES=[\"training_set\"]\n",
    "for categ in CATEGORIES:\n",
    "     path = os.path.join(ALLDATAPATH, categ)\n",
    "     for img in os.listdir(path):\n",
    "         img_array=cv2.imread(os.path.join(path,img) ,cv2.IMREAD_GRAYSCALE)  # convert to array\n",
    "        \n",
    "      "
   ]
  },
  {
   "cell_type": "code",
   "execution_count": 26,
   "id": "658d6c1f",
   "metadata": {},
   "outputs": [
    {
     "data": {
      "text/plain": [
       "960"
      ]
     },
     "execution_count": 26,
     "metadata": {},
     "output_type": "execute_result"
    }
   ],
   "source": [
    "len(img_array)"
   ]
  },
  {
   "cell_type": "code",
   "execution_count": 27,
   "id": "8776fbf9",
   "metadata": {},
   "outputs": [
    {
     "data": {
      "text/plain": [
       "(960, 1280)"
      ]
     },
     "execution_count": 27,
     "metadata": {},
     "output_type": "execute_result"
    }
   ],
   "source": [
    "img_array.shape"
   ]
  },
  {
   "cell_type": "code",
   "execution_count": 32,
   "id": "329d1c5e",
   "metadata": {},
   "outputs": [
    {
     "data": {
      "text/plain": [
       "<matplotlib.image.AxesImage at 0x29c99498130>"
      ]
     },
     "execution_count": 32,
     "metadata": {},
     "output_type": "execute_result"
    },
    {
     "data": {
      "image/png": "[encoded data removed]",
      "text/plain": [
       "<Figure size 432x288 with 1 Axes>"
      ]
     },
     "metadata": {
      "needs_background": "light"
     },
     "output_type": "display_data"
    }
   ],
   "source": [
    "#resize the images to 50x50 as a way of normalizing the data\n",
    "IMG_SIZE=1000\n",
    "new_array= cv2.resize(img_array, (IMG_SIZE, IMG_SIZE))\n",
    "plt.imshow(new_array, cmap='gray')"
   ]
  },
  {
   "cell_type": "code",
   "execution_count": 33,
   "id": "4d90e2aa",
   "metadata": {},
   "outputs": [
    {
     "data": {
      "text/plain": [
       "<matplotlib.image.AxesImage at 0x29c9b4647c0>"
      ]
     },
     "execution_count": 33,
     "metadata": {},
     "output_type": "execute_result"
    },
    {
     "data": {
      "image/png": "[encoded data removed]",
      "text/plain": [
       "<Figure size 432x288 with 1 Axes>"
      ]
     },
     "metadata": {
      "needs_background": "light"
     },
     "output_type": "display_data"
    }
   ],
   "source": [
    "#resize the images to 50x50 as a way of normalizing the data\n",
    "IMG_SIZE=1500\n",
    "new_array= cv2.resize(img_array, (IMG_SIZE, IMG_SIZE))\n",
    "plt.imshow(new_array, cmap='gray')\n"
   ]
  },
  {
   "cell_type": "code",
   "execution_count": null,
   "id": "e881106f",
   "metadata": {},
   "outputs": [],
   "source": [
    "training_labels[1]"
   ]
  },
  {
   "cell_type": "code",
   "execution_count": null,
   "id": "9d94540e",
   "metadata": {},
   "outputs": [],
   "source": [
    "training_paths[1]"
   ]
  },
  {
   "cell_type": "code",
   "execution_count": null,
   "id": "8bf17d8d",
   "metadata": {},
   "outputs": [],
   "source": [
    "# i will apply one hot incoding to transfer the labels to a format a machine can read\n",
    "\n",
    "from numpy import array\n",
    "from numpy import argmax\n",
    "from sklearn.preprocessing import LabelEncoder\n",
    "from sklearn.preprocessing import OneHotEncoder\n",
    "\n",
    "# start with the training labels\n",
    "training_values=array(training_labels)\n",
    "# integer encode\n",
    "\n",
    "label_encoder = LabelEncoder()\n",
    "training_integer_encoded = label_encoder.fit_transform(training_values)\n",
    "print(training_integer_encoded[71522])\n",
    "\n",
    "# binary encode\n",
    "onehot_encoder = OneHotEncoder(sparse=False)\n",
    "training_integer_encoded = training_integer_encoded.reshape(len(training_integer_encoded), 1)\n",
    "training_onehot_encoded = onehot_encoder.fit_transform(training_integer_encoded)\n",
    "print(training_onehot_encoded[71522])"
   ]
  },
  {
   "cell_type": "code",
   "execution_count": null,
   "id": "7416acd4",
   "metadata": {},
   "outputs": [],
   "source": [
    "len(training_onehot_encoded)"
   ]
  },
  {
   "cell_type": "code",
   "execution_count": null,
   "id": "eedde5f5",
   "metadata": {},
   "outputs": [],
   "source": [
    "# one hot encode the testing labels\n",
    "testing_values=array(testing_labels)\n",
    "# integer encode\n",
    "\n",
    "label_encoder = LabelEncoder()\n",
    "testing_integer_encoded = label_encoder.fit_transform(testing_values)\n",
    "print(testing_integer_encoded[15220])\n",
    "\n",
    "# binary encode\n",
    "onehot_encoder = OneHotEncoder(sparse=False)\n",
    "testing_integer_encoded = testing_integer_encoded.reshape(len(testing_integer_encoded), 1)\n",
    "testing_onehot_encoded = onehot_encoder.fit_transform(testing_integer_encoded)\n",
    "print(testing_onehot_encoded[15220])"
   ]
  },
  {
   "cell_type": "code",
   "execution_count": null,
   "id": "4e95ce14",
   "metadata": {},
   "outputs": [],
   "source": [
    "len(testing_onehot_encoded)"
   ]
  },
  {
   "cell_type": "code",
   "execution_count": null,
   "id": "c485ad3f",
   "metadata": {},
   "outputs": [],
   "source": [
    "# here i will create a trainng dataset that has the images with the assigned labels\n",
    "training_data=[]\n",
    "def create_training_data():\n",
    "    ALLDATAPATH= r\"C:\\Users\\Manaf\\Desktop\"\n",
    "    CATEGORIES=[\"training_set\"]\n",
    "    for categ in CATEGORIES:\n",
    "        path = os.path.join(ALLDATAPATH, categ)\n",
    "        for img,label in zip(os.listdir(path),training_onehot_encoded) :\n",
    "            img_array=cv2.imread(os.path.join(path,img) ,cv2.IMREAD_GRAYSCALE)  # convert to array\n",
    "            new_array= cv2.resize(img_array, (100, 100))\n",
    "            training_data.append([new_array, label])\n",
    "\n",
    "        \n",
    "create_training_data()"
   ]
  },
  {
   "cell_type": "code",
   "execution_count": null,
   "id": "4bd69510",
   "metadata": {},
   "outputs": [],
   "source": [
    "len(training_data)"
   ]
  },
  {
   "cell_type": "code",
   "execution_count": null,
   "id": "f4d99df9",
   "metadata": {},
   "outputs": [],
   "source": [
    "# here i will create a trainng dataset that has the images with the assigned labels\n",
    "testing_data=[]\n",
    "def create_testing_data():\n",
    "    ALLDATAPATH= r\"C:\\Users\\Manaf\\Desktop\"\n",
    "    CATEGORIES=[\"testing_set\"]\n",
    "    for categ in CATEGORIES:\n",
    "        path = os.path.join(ALLDATAPATH, categ)\n",
    "        for img,label in zip(os.listdir(path),testing_onehot_encoded) :\n",
    "            img_array=cv2.imread(os.path.join(path,img) ,cv2.IMREAD_GRAYSCALE)  # convert to array\n",
    "            new_array= cv2.resize(img_array, (100, 100))\n",
    "            testing_data.append([new_array, label])\n",
    "\n",
    "        \n",
    "create_testing_data()"
   ]
  },
  {
   "cell_type": "code",
   "execution_count": null,
   "id": "568878c1",
   "metadata": {},
   "outputs": [],
   "source": [
    "len(testing_data)"
   ]
  },
  {
   "cell_type": "code",
   "execution_count": null,
   "id": "6b08560e",
   "metadata": {},
   "outputs": [],
   "source": [
    "import random\n",
    "random.shuffle(training_data)"
   ]
  },
  {
   "cell_type": "code",
   "execution_count": null,
   "id": "0b9519ec",
   "metadata": {},
   "outputs": [],
   "source": [
    "#see now some of the shuffled training_data\n",
    "for sample in training_data[:10]:\n",
    "    print(sample[1])"
   ]
  },
  {
   "cell_type": "code",
   "execution_count": null,
   "id": "bd633321",
   "metadata": {},
   "outputs": [],
   "source": [
    "#split the training_data to X features and ylabels\n",
    "X=[]\n",
    "y=[]\n",
    "for features, label in training_data:\n",
    "    X.append(features)\n",
    "    y.append(label)\n",
    "X=np.array(X).reshape(-1, 100,100,1)# array like to feed it to neural network"
   ]
  },
  {
   "cell_type": "code",
   "execution_count": null,
   "id": "3d28ef2a",
   "metadata": {},
   "outputs": [],
   "source": [
    "#split the testing_data to X features and ylabels\n",
    "X_test=[]\n",
    "y_test=[]\n",
    "for features, label in testing_data:\n",
    "    X_test.append(features)\n",
    "    y_test.append(label)\n",
    "X_test=np.array(X_test).reshape(-1, 100,100,1)# array like to feed it to neural network"
   ]
  },
  {
   "cell_type": "code",
   "execution_count": null,
   "id": "6de7099a",
   "metadata": {},
   "outputs": [],
   "source": [
    "#the size of our training data just to make sure we have the right size\n",
    "X.shape"
   ]
  },
  {
   "cell_type": "code",
   "execution_count": null,
   "id": "3a3c0d6c",
   "metadata": {},
   "outputs": [],
   "source": [
    "#save training data\n",
    "import pickle\n",
    "\n",
    "pickle_out= open(\"X.pickle\",\"wb\")\n",
    "pickle.dump(X, pickle_out)\n",
    "pickle_out.close()\n",
    "\n",
    "pickle_out= open(\"y.pickle\",\"wb\")\n",
    "pickle.dump(y, pickle_out)\n",
    "pickle_out.close()\n"
   ]
  },
  {
   "cell_type": "code",
   "execution_count": null,
   "id": "aa1639d3",
   "metadata": {},
   "outputs": [],
   "source": [
    "pickle_in = open(\"X.pickle\",\"rb\")\n",
    "X = pickle.load(pickle_in)"
   ]
  },
  {
   "cell_type": "code",
   "execution_count": null,
   "id": "09508452",
   "metadata": {},
   "outputs": [],
   "source": [
    "#scale training X\n",
    "X=X/255.0"
   ]
  },
  {
   "cell_type": "code",
   "execution_count": null,
   "id": "0313bbf6",
   "metadata": {},
   "outputs": [],
   "source": [
    "#save testing data\n",
    "\n",
    "pickle_out= open(\"X_test.pickle\",\"wb\")\n",
    "pickle.dump(X_test, pickle_out)\n",
    "pickle_out.close()\n",
    "\n",
    "pickle_out= open(\"y_test.pickle\",\"wb\")\n",
    "pickle.dump(y_test, pickle_out)\n",
    "pickle_out.close()"
   ]
  },
  {
   "cell_type": "code",
   "execution_count": null,
   "id": "1601239d",
   "metadata": {},
   "outputs": [],
   "source": [
    "import tensorflow as tf\n",
    "from tensorflow.keras.datasets import cifar10\n",
    "from tensorflow.keras.preprocessing.image import ImageDataGenerator\n",
    "from tensorflow.keras.models import Sequential\n",
    "from tensorflow.keras.layers import Dense, Dropout, Activation, Flatten\n",
    "from tensorflow.keras.layers import Conv2D, MaxPooling2D\n",
    "\n",
    "import pickle\n",
    "\n",
    "pickle_in = open(\"X.pickle\",\"rb\")\n",
    "X = pickle.load(pickle_in)\n",
    "\n",
    "pickle_in = open(\"y.pickle\",\"rb\")\n",
    "y = pickle.load(pickle_in)\n",
    "\n",
    "X = X/255.0\n",
    "\n",
    "model = Sequential()\n",
    "\n",
    "model.add(Conv2D(256, (3, 3), input_shape=X.shape[1:]))\n",
    "model.add(Activation('relu'))\n",
    "model.add(MaxPooling2D(pool_size=(2, 2)))\n",
    "\n",
    "model.add(Conv2D(256, (3, 3)))\n",
    "model.add(Activation('relu'))\n",
    "model.add(MaxPooling2D(pool_size=(2, 2)))\n",
    "\n",
    "model.add(Flatten())  # this converts our 3D feature maps to 1D feature vectors\n",
    "\n",
    "model.add(Dense(64))\n",
    "\n",
    "model.add(Dense(1))\n",
    "model.add(Activation('sigmoid'))\n",
    "\n",
    "model.compile(loss='binary_crossentropy',\n",
    "              optimizer='adam',\n",
    "              metrics=['accuracy'])\n",
    "\n",
    "model.fit(X, y, batch_size=32, epochs=3, validation_split=0.3)"
   ]
  },
  {
   "cell_type": "code",
   "execution_count": null,
   "id": "24b7802c",
   "metadata": {},
   "outputs": [],
   "source": [
    "import os\n",
    "import numpy as np\n",
    "import torch\n",
    "import glob\n",
    "import torch.nn as nn\n",
    "#from torchvision.transforms import transforms\n",
    "from torch.utils.data import DataLoader\n",
    "from torch.optim import Adam\n",
    "from torch.autograd import Variable\n",
    "import torch.nn as nn\n",
    "import torch.nn.functional as F\n",
    "from torch.optim.lr_scheduler import StepLR\n",
    "#import torchvision\n",
    "import pathlib"
   ]
  },
  {
   "cell_type": "code",
   "execution_count": null,
   "id": "9fc188e1",
   "metadata": {},
   "outputs": [],
   "source": [
    "#checking for device\n",
    "device=torch.device('cuda' if torch.cuda.is_available() else 'cpu')"
   ]
  },
  {
   "cell_type": "code",
   "execution_count": null,
   "id": "035e624f",
   "metadata": {},
   "outputs": [],
   "source": [
    "print(device)"
   ]
  }
 ],
 "metadata": {
  "kernelspec": {
   "display_name": "Python 3 (ipykernel)",
   "language": "python",
   "name": "python3"
  },
  "language_info": {
   "codemirror_mode": {
    "name": "ipython",
    "version": 3
   },
   "file_extension": ".py",
   "mimetype": "text/x-python",
   "name": "python",
   "nbconvert_exporter": "python",
   "pygments_lexer": "ipython3",
   "version": "3.8.8"
  }
 },
 "nbformat": 4,
 "nbformat_minor": 5
}
